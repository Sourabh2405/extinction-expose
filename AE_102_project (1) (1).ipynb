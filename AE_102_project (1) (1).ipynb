{
 "cells": [
  {
   "cell_type": "markdown",
   "id": "481e4bb7",
   "metadata": {},
   "source": [
    "<img src=\"https://media.almabaseapp.com/281/meta/logo.jpg\" style=\"width:100px ;height:100px\">"
   ]
  },
  {
   "cell_type": "markdown",
   "id": "f7a2ae53-9596-4cb9-9cd0-a9c0e5afd219",
   "metadata": {},
   "source": [
    "# <u>              AE102 Project- Data analysis of animal species population extinction\n",
    "    "
   ]
  },
  {
   "cell_type": "markdown",
   "id": "8a7a1dea",
   "metadata": {},
   "source": [
    "###  <center>                 Analysis of two Random Variables (1: Endangered  ; 2: Least concerned)\n",
    "\n",
    "# <center>                                          TEAM: \"THE BRU'S\"\n",
    "##      <u> Contributors: \n",
    "###               Daksh katkar(210010022)\n",
    "###               Kinjal Sao(210010035)\n",
    "###               Mayank Ghritlahre(210010040)\n",
    "###               Sourabh Chouhan(210010062)"
   ]
  },
  {
   "cell_type": "code",
   "execution_count": 31,
   "id": "eafa383a",
   "metadata": {},
   "outputs": [
    {
     "data": {
      "text/html": [
       "<img src=\"https://w.ndtvimg.com/sites/3/2020/10/30150648/660x330-endangered-species.jpg\" width=\"950\" height=\"900\"/>"
      ],
      "text/plain": [
       "<IPython.core.display.Image object>"
      ]
     },
     "execution_count": 31,
     "metadata": {},
     "output_type": "execute_result"
    }
   ],
   "source": [
    "# import image module\n",
    "from IPython.display import Image\n",
    "\n",
    "# get the image\n",
    "Image(url=\"https://w.ndtvimg.com/sites/3/2020/10/30150648/660x330-endangered-species.jpg\", width=950, height=900)\n"
   ]
  },
  {
   "cell_type": "code",
   "execution_count": 1,
   "id": "d23b073d-1c9d-492f-b5d0-4a9631bcbcce",
   "metadata": {},
   "outputs": [],
   "source": [
    "import numpy as np\n",
    "import matplotlib.pyplot as plt\n",
    "import seaborn as sns\n",
    "import pandas as pd\n",
    "%matplotlib inline"
   ]
  },
  {
   "cell_type": "code",
   "execution_count": 2,
   "id": "181edd7a-dfe3-4abb-87b5-5e73fb2e5ced",
   "metadata": {},
   "outputs": [],
   "source": [
    "# loading in data set note to other makers keep species.xlsx in same directory "
   ]
  },
  {
   "cell_type": "markdown",
   "id": "fa390a3a-11ef-464e-9efa-9e039bdee333",
   "metadata": {},
   "source": [
    "#     <center>                                The Dataset and Random Variables\n",
    "### Our Dataset is :\n",
    "    One of the most well-known objective assessment systems for declining species is the approach unveiled by the International Union for Conservation of Nature (IUCN) in 1994. It contains explicit criteria and categories to classify the conservation status of individual species on the basis of their probability of extinction. This classification is based on thorough, science-based species assessments and is published as the IUCN Red List of Threatened Species, more commonly known as the IUCN Red List.\n",
    "    \n",
    " <img src=\"https://cdn.britannica.com/60/132360-050-3FCC0376/species-one-IUCN-conservation-status-categories.jpg\" style=\"width:500px ;height:400px\">\n",
    "    \n",
    "    IUCN has classified the species in following classes :\n",
    "    1)Extinct (EX): species in which the last individual has died or where systematic and time-appropriate surveys have been unable to log even a single individual.\n",
    "    \n",
    "    2) Extinct in the Wild (EW): species whose members survive only in captivity or as artificially supported populations far outside their historical geographic range.\n",
    "    \n",
    "    3) Critically Endangered (CR): species that possess an extremely high risk of extinction as a result of rapid population declines of 80 to more than 90 percent over the previous 10 years (or three generations), a current population size of fewer than 50 individuals, or other factors (such as severely fragmented populations, long generation times, or isolated habitats)\n",
    "    4) Endangered (EN), species that possess a very high risk of extinction as a result of rapid population declines of 50 to more than 70 percent over the previous 10 years (or three generations), a current population size of fewer than 250 individuals, or other factors.\n",
    "    \n",
    "    5) Vulnerable (VU) : species that possess a very high risk of extinction as a result of rapid population declines of 30 to more than 50 percent over the previous 10 years (or three generations), a current population size of fewer than 1,000 individuals, or other factors.\n",
    "    \n",
    "    6) Near Threatened (NT): species that are close to becoming threatened or may meet the criteria for threatened status in the near future.\n",
    "    \n",
    "    7)Least Concern (LC): a category containing species that are pervasive and abundant after careful assessment.\n",
    "    \n",
    "    8)Data Deficient (DD): a condition applied to species in which the amount of available data related to its risk of extinction is lacking in some way. Consequently, a complete assessment cannot be performed. Thus, unlike the other categories in this list, this category does not describe the conservation status of a species.\n",
    "    \n",
    "    9)Not Evaluated (NE): a category used to include any of the nearly 1.9 million species described by science but not yet assessed by the IUCN.\n",
    "    \n",
    "\n",
    "#### Our project is based on taking random variables \n",
    "#### <center>   1.(Endangered/extinct/vulnerable)\n",
    "<center> and\n",
    "    \n",
    "#### <center>   2.(Nearly threatened+Least Concern)\n",
    "\n"
   ]
  },
  {
   "cell_type": "code",
   "execution_count": 3,
   "id": "c0b33d69-70aa-47da-92cf-456af584595f",
   "metadata": {},
   "outputs": [],
   "source": [
    "species = pd.read_excel('species.xlsx')"
   ]
  },
  {
   "cell_type": "code",
   "execution_count": 4,
   "id": "30dbdf26-753d-4216-9d15-354e351d601a",
   "metadata": {},
   "outputs": [
    {
     "data": {
      "text/html": [
       "<div>\n",
       "<style scoped>\n",
       "    .dataframe tbody tr th:only-of-type {\n",
       "        vertical-align: middle;\n",
       "    }\n",
       "\n",
       "    .dataframe tbody tr th {\n",
       "        vertical-align: top;\n",
       "    }\n",
       "\n",
       "    .dataframe thead th {\n",
       "        text-align: right;\n",
       "    }\n",
       "</style>\n",
       "<table border=\"1\" class=\"dataframe\">\n",
       "  <thead>\n",
       "    <tr style=\"text-align: right;\">\n",
       "      <th></th>\n",
       "      <th>Name</th>\n",
       "      <th>Subtotal (EX+EW+ CR(PE)+CR(PEW))</th>\n",
       "      <th>Subtotal (threatened spp.)</th>\n",
       "      <th>endangered/extinct/vulnerable</th>\n",
       "      <th>least concerned</th>\n",
       "      <th>Total</th>\n",
       "    </tr>\n",
       "  </thead>\n",
       "  <tbody>\n",
       "    <tr>\n",
       "      <th>0</th>\n",
       "      <td>ACTINOPTERYGII</td>\n",
       "      <td>219.0</td>\n",
       "      <td>2919.0</td>\n",
       "      <td>3138</td>\n",
       "      <td>13176.0</td>\n",
       "      <td>21238.0</td>\n",
       "    </tr>\n",
       "    <tr>\n",
       "      <th>1</th>\n",
       "      <td>AMPHIBIA</td>\n",
       "      <td>184.0</td>\n",
       "      <td>2488.0</td>\n",
       "      <td>2672</td>\n",
       "      <td>3160.0</td>\n",
       "      <td>7296.0</td>\n",
       "    </tr>\n",
       "    <tr>\n",
       "      <th>2</th>\n",
       "      <td>ANTHOZOA</td>\n",
       "      <td>1.0</td>\n",
       "      <td>234.0</td>\n",
       "      <td>235</td>\n",
       "      <td>293.0</td>\n",
       "      <td>868.0</td>\n",
       "    </tr>\n",
       "    <tr>\n",
       "      <th>3</th>\n",
       "      <td>ARACHNIDA</td>\n",
       "      <td>30.0</td>\n",
       "      <td>251.0</td>\n",
       "      <td>281</td>\n",
       "      <td>94.0</td>\n",
       "      <td>441.0</td>\n",
       "    </tr>\n",
       "    <tr>\n",
       "      <th>4</th>\n",
       "      <td>ASTEROIDEA</td>\n",
       "      <td>0.0</td>\n",
       "      <td>1.0</td>\n",
       "      <td>1</td>\n",
       "      <td>0.0</td>\n",
       "      <td>1.0</td>\n",
       "    </tr>\n",
       "    <tr>\n",
       "      <th>...</th>\n",
       "      <td>...</td>\n",
       "      <td>...</td>\n",
       "      <td>...</td>\n",
       "      <td>...</td>\n",
       "      <td>...</td>\n",
       "      <td>...</td>\n",
       "    </tr>\n",
       "    <tr>\n",
       "      <th>62</th>\n",
       "      <td>POLYPODIOPSIDA</td>\n",
       "      <td>11.0</td>\n",
       "      <td>239.0</td>\n",
       "      <td>250</td>\n",
       "      <td>273.0</td>\n",
       "      <td>634.0</td>\n",
       "    </tr>\n",
       "    <tr>\n",
       "      <th>63</th>\n",
       "      <td>POLYTRICHOPSIDA</td>\n",
       "      <td>0.0</td>\n",
       "      <td>0.0</td>\n",
       "      <td>0</td>\n",
       "      <td>0.0</td>\n",
       "      <td>1.0</td>\n",
       "    </tr>\n",
       "    <tr>\n",
       "      <th>64</th>\n",
       "      <td>SPHAGNOPSIDA</td>\n",
       "      <td>0.0</td>\n",
       "      <td>5.0</td>\n",
       "      <td>5</td>\n",
       "      <td>1.0</td>\n",
       "      <td>6.0</td>\n",
       "    </tr>\n",
       "    <tr>\n",
       "      <th>65</th>\n",
       "      <td>TAKAKIOPSIDA</td>\n",
       "      <td>0.0</td>\n",
       "      <td>1.0</td>\n",
       "      <td>1</td>\n",
       "      <td>0.0</td>\n",
       "      <td>1.0</td>\n",
       "    </tr>\n",
       "    <tr>\n",
       "      <th>66</th>\n",
       "      <td>ULVOPHYCEAE</td>\n",
       "      <td>0.0</td>\n",
       "      <td>0.0</td>\n",
       "      <td>0</td>\n",
       "      <td>0.0</td>\n",
       "      <td>1.0</td>\n",
       "    </tr>\n",
       "  </tbody>\n",
       "</table>\n",
       "<p>67 rows × 6 columns</p>\n",
       "</div>"
      ],
      "text/plain": [
       "               Name  Subtotal (EX+EW+ CR(PE)+CR(PEW))  \\\n",
       "0    ACTINOPTERYGII                             219.0   \n",
       "1          AMPHIBIA                             184.0   \n",
       "2          ANTHOZOA                               1.0   \n",
       "3         ARACHNIDA                              30.0   \n",
       "4        ASTEROIDEA                               0.0   \n",
       "..              ...                               ...   \n",
       "62   POLYPODIOPSIDA                              11.0   \n",
       "63  POLYTRICHOPSIDA                               0.0   \n",
       "64     SPHAGNOPSIDA                               0.0   \n",
       "65     TAKAKIOPSIDA                               0.0   \n",
       "66      ULVOPHYCEAE                               0.0   \n",
       "\n",
       "    Subtotal (threatened spp.)  endangered/extinct/vulnerable  \\\n",
       "0                       2919.0                           3138   \n",
       "1                       2488.0                           2672   \n",
       "2                        234.0                            235   \n",
       "3                        251.0                            281   \n",
       "4                          1.0                              1   \n",
       "..                         ...                            ...   \n",
       "62                       239.0                            250   \n",
       "63                         0.0                              0   \n",
       "64                         5.0                              5   \n",
       "65                         1.0                              1   \n",
       "66                         0.0                              0   \n",
       "\n",
       "    least concerned     Total  \n",
       "0            13176.0  21238.0  \n",
       "1             3160.0   7296.0  \n",
       "2              293.0    868.0  \n",
       "3               94.0    441.0  \n",
       "4                0.0      1.0  \n",
       "..               ...      ...  \n",
       "62             273.0    634.0  \n",
       "63               0.0      1.0  \n",
       "64               1.0      6.0  \n",
       "65               0.0      1.0  \n",
       "66               0.0      1.0  \n",
       "\n",
       "[67 rows x 6 columns]"
      ]
     },
     "execution_count": 4,
     "metadata": {},
     "output_type": "execute_result"
    }
   ],
   "source": [
    "species"
   ]
  },
  {
   "cell_type": "markdown",
   "id": "a2235908-ecfa-4ae0-b5e7-83132b49ea3b",
   "metadata": {},
   "source": [
    "# description of data \n",
    "\n",
    "### We have found Mean, standard deviation(std) ,minimum value .The values of this parameters are as follows."
   ]
  },
  {
   "cell_type": "code",
   "execution_count": 32,
   "id": "3ec8ef88-27e2-49c2-a373-4445dfb71289",
   "metadata": {},
   "outputs": [
    {
     "data": {
      "text/html": [
       "<div>\n",
       "<style scoped>\n",
       "    .dataframe tbody tr th:only-of-type {\n",
       "        vertical-align: middle;\n",
       "    }\n",
       "\n",
       "    .dataframe tbody tr th {\n",
       "        vertical-align: top;\n",
       "    }\n",
       "\n",
       "    .dataframe thead th {\n",
       "        text-align: right;\n",
       "    }\n",
       "</style>\n",
       "<table border=\"1\" class=\"dataframe\">\n",
       "  <thead>\n",
       "    <tr style=\"text-align: right;\">\n",
       "      <th></th>\n",
       "      <th></th>\n",
       "      <th>endangered/extinct/vulnerable</th>\n",
       "      <th>least concerned</th>\n",
       "    </tr>\n",
       "  </thead>\n",
       "  <tbody>\n",
       "    <tr>\n",
       "      <th>0</th>\n",
       "      <td>count</td>\n",
       "      <td>67.000000</td>\n",
       "      <td>67.000000</td>\n",
       "    </tr>\n",
       "    <tr>\n",
       "      <th>1</th>\n",
       "      <td>mean</td>\n",
       "      <td>334.701493</td>\n",
       "      <td>760.283582</td>\n",
       "    </tr>\n",
       "    <tr>\n",
       "      <th>2</th>\n",
       "      <td>std</td>\n",
       "      <td>800.487049</td>\n",
       "      <td>2224.286960</td>\n",
       "    </tr>\n",
       "    <tr>\n",
       "      <th>3</th>\n",
       "      <td>min</td>\n",
       "      <td>0.000000</td>\n",
       "      <td>0.000000</td>\n",
       "    </tr>\n",
       "  </tbody>\n",
       "</table>\n",
       "</div>"
      ],
      "text/plain": [
       "          endangered/extinct/vulnerable  least concerned \n",
       "0  count                      67.000000         67.000000\n",
       "1   mean                     334.701493        760.283582\n",
       "2    std                     800.487049       2224.286960\n",
       "3    min                       0.000000          0.000000"
      ]
     },
     "execution_count": 32,
     "metadata": {},
     "output_type": "execute_result"
    }
   ],
   "source": [
    "data=[['count',len(species[\"endangered/extinct/vulnerable\"]),len(species['least concerned '])],\n",
    "                   ['mean',np.mean(species['endangered/extinct/vulnerable']),np.mean(species['least concerned '])],\n",
    "                   ['std',np.std(species['endangered/extinct/vulnerable'],ddof=1),np.std(species['least concerned '],ddof=1)],\n",
    "                   ['min',np.min(species['endangered/extinct/vulnerable']),np.min(species['least concerned '])]]\n",
    "descrip=pd.DataFrame(data,columns=['','endangered/extinct/vulnerable','least concerned '])\n",
    "descrip"
   ]
  },
  {
   "cell_type": "markdown",
   "id": "db19aeb2-0edd-4840-aa78-3d4555baf144",
   "metadata": {},
   "source": [
    "# Understanding the distributions of our chosen random variable:"
   ]
  },
  {
   "cell_type": "markdown",
   "id": "ca2098f1-071f-46de-9f17-bee6b0060059",
   "metadata": {},
   "source": [
    "### •\tFrequency graphs of RV 1(Endangered/extinct/vulnerable):"
   ]
  },
  {
   "cell_type": "code",
   "execution_count": 33,
   "id": "fce0cc81-665d-401c-94ae-20798321564b",
   "metadata": {},
   "outputs": [
    {
     "data": {
      "text/plain": [
       "<AxesSubplot:xlabel='endangered/extinct/vulnerable', ylabel='Count'>"
      ]
     },
     "execution_count": 33,
     "metadata": {},
     "output_type": "execute_result"
    },
    {
     "data": {
      "image/png": "[encoded data removed]",
      "text/plain": [
       "<Figure size 432x288 with 1 Axes>"
      ]
     },
     "metadata": {
      "needs_background": "light"
     },
     "output_type": "display_data"
    }
   ],
   "source": [
    "# plotting frequency graph for endangered/extinct/vulnerable\n",
    "sns.histplot(species,x='endangered/extinct/vulnerable',bins=20)"
   ]
  },
  {
   "cell_type": "markdown",
   "id": "8defbe76-e134-4821-9192-0d0445232e72",
   "metadata": {},
   "source": [
    "### •\tFrequency graph of RV 2(least concerned):"
   ]
  },
  {
   "cell_type": "code",
   "execution_count": 35,
   "id": "373edea7-1902-4b26-a363-5aa84adc068b",
   "metadata": {},
   "outputs": [
    {
     "data": {
      "text/plain": [
       "<AxesSubplot:xlabel='least concerned ', ylabel='Count'>"
      ]
     },
     "execution_count": 35,
     "metadata": {},
     "output_type": "execute_result"
    },
    {
     "data": {
      "image/png": "[encoded data removed]",
      "text/plain": [
       "<Figure size 432x288 with 1 Axes>"
      ]
     },
     "metadata": {
      "needs_background": "light"
     },
     "output_type": "display_data"
    }
   ],
   "source": [
    "# plotling frequency graph for least concerned\n",
    "sns.histplot(species,x='least concerned ',bins=20)\n"
   ]
  },
  {
   "cell_type": "markdown",
   "id": "3f92ef48-3f74-4434-8e51-df677a5b3a73",
   "metadata": {},
   "source": [
    "### •\tJoint distribution of RV 1 & RV 2:\n",
    "The joint plot of our random variables is given below . There is very little overlapping between these two RVs\n"
   ]
  },
  {
   "cell_type": "code",
   "execution_count": 36,
   "id": "2df3a1a2-6a33-4220-8cc9-0e45169d5f89",
   "metadata": {},
   "outputs": [
    {
     "data": {
      "text/plain": [
       "<AxesSubplot:xlabel='endangered/extinct/vulnerable', ylabel='least concerned '>"
      ]
     },
     "execution_count": 36,
     "metadata": {},
     "output_type": "execute_result"
    },
    {
     "data": {
      "image/png": "[encoded data removed]",
      "text/plain": [
       "<Figure size 432x288 with 1 Axes>"
      ]
     },
     "metadata": {
      "needs_background": "light"
     },
     "output_type": "display_data"
    }
   ],
   "source": [
    "sns.histplot(species, x=\"endangered/extinct/vulnerable\", y=\"least concerned \", )"
   ]
  },
  {
   "cell_type": "markdown",
   "id": "4b80100f-1977-4d12-bccd-4b6a178b315e",
   "metadata": {},
   "source": [
    "# Sampling distributions:"
   ]
  },
  {
   "cell_type": "markdown",
   "id": "c28c814b-634f-4a02-8a39-fccdb9459846",
   "metadata": {},
   "source": [
    "## Sampling distribution of means of RVs:"
   ]
  },
  {
   "cell_type": "code",
   "execution_count": 37,
   "id": "960a767d-7389-4c0c-8ae0-0292eaeaeace",
   "metadata": {},
   "outputs": [],
   "source": [
    "#now for sample mean \n",
    "\n",
    "def collect_sample_means(data, n_samples, n_people):\n",
    "    avgs = np.zeros(n_people)\n",
    "    for i in range(n_people):\n",
    "        sample = np.random.choice(species[data], n_samples, replace=False)\n",
    "        avgs[i] = np.mean(sample)\n",
    "    return avgs"
   ]
  },
  {
   "cell_type": "markdown",
   "id": "b6a4288f-f511-40a6-895d-3b7dd984acb6",
   "metadata": {},
   "source": [
    "### Sampling disrtibution of sample mean of RV1(endangered/extinct/vulnerable)\n",
    " the plot given below is when 200 samples of size 10 were taken"
   ]
  },
  {
   "cell_type": "code",
   "execution_count": 39,
   "id": "986137db-c186-4daf-bd80-453ff5cabdd7",
   "metadata": {},
   "outputs": [
    {
     "data": {
      "text/plain": [
       "(array([39., 16.,  7., 12., 28., 23., 18.,  8., 16.,  3., 11.,  7.,  4.,\n",
       "         4.,  1.,  0.,  1.,  1.,  0.,  1.]),\n",
       " array([   6.   ,   65.025,  124.05 ,  183.075,  242.1  ,  301.125,\n",
       "         360.15 ,  419.175,  478.2  ,  537.225,  596.25 ,  655.275,\n",
       "         714.3  ,  773.325,  832.35 ,  891.375,  950.4  , 1009.425,\n",
       "        1068.45 , 1127.475, 1186.5  ]),\n",
       " <BarContainer object of 20 artists>)"
      ]
     },
     "execution_count": 39,
     "metadata": {},
     "output_type": "execute_result"
    },
    {
     "data": {
      "image/png": "[encoded data removed]",
      "text/plain": [
       "<Figure size 432x288 with 1 Axes>"
      ]
     },
     "metadata": {
      "needs_background": "light"
     },
     "output_type": "display_data"
    }
   ],
   "source": [
    "# plot of endangered/extinct/vulnerable\n",
    "# will take 200 samples of size 10\n",
    "endangered_m=collect_sample_means(\"endangered/extinct/vulnerable\",10,200)\n",
    "plt.hist(endangered_m,bins=20)"
   ]
  },
  {
   "cell_type": "markdown",
   "id": "34587561-9b1c-4738-9913-e96136d3a1b7",
   "metadata": {},
   "source": [
    "### Sampling distribution of mean of RV2 (least concerned)\n",
    "the plot given below is when we have taken 200 samples of size 10"
   ]
  },
  {
   "cell_type": "code",
   "execution_count": 41,
   "id": "4693b61e-10db-4982-888e-77c7a35f6d1b",
   "metadata": {},
   "outputs": [
    {
     "data": {
      "text/plain": [
       "(array([39., 12., 30., 11., 28.,  6., 14.,  4.,  6., 15.,  4., 11.,  3.,\n",
       "         7.,  7.,  0.,  1.,  0.,  1.,  1.]),\n",
       " array([   9.2 ,  151.84,  294.48,  437.12,  579.76,  722.4 ,  865.04,\n",
       "        1007.68, 1150.32, 1292.96, 1435.6 , 1578.24, 1720.88, 1863.52,\n",
       "        2006.16, 2148.8 , 2291.44, 2434.08, 2576.72, 2719.36, 2862.  ]),\n",
       " <BarContainer object of 20 artists>)"
      ]
     },
     "execution_count": 41,
     "metadata": {},
     "output_type": "execute_result"
    },
    {
     "data": {
      "image/png": "[encoded data removed]",
      "text/plain": [
       "<Figure size 432x288 with 1 Axes>"
      ]
     },
     "metadata": {
      "needs_background": "light"
     },
     "output_type": "display_data"
    }
   ],
   "source": [
    "# plot of least concerned\n",
    "# will take 200 samples of size 10\n",
    "lc_m=collect_sample_means(\"least concerned \",10,200)\n",
    "plt.hist(lc_m,bins=20)"
   ]
  },
  {
   "cell_type": "markdown",
   "id": "8e4dd210-b322-4532-8090-ed567f887fd6",
   "metadata": {},
   "source": [
    "## Sampling distribution of variance of RVs:"
   ]
  },
  {
   "cell_type": "code",
   "execution_count": 42,
   "id": "3b0ad09c-1c6c-431d-9e2c-0f481eeab019",
   "metadata": {},
   "outputs": [],
   "source": [
    "#sample variance\n",
    "\n",
    "def collect_sample_variance(data, n_samples, n_people):\n",
    "    vars = np.zeros(n_people)\n",
    "    for i in range(n_people):\n",
    "        sample = np.random.choice(species[data], n_samples, replace=False)\n",
    "        vars[i]= (np.std(sample,ddof=1))**2\n",
    "    return vars"
   ]
  },
  {
   "cell_type": "markdown",
   "id": "914796af-fdec-40be-9685-5988eabfc5c8",
   "metadata": {},
   "source": [
    "### Sampling disrtibution of sample variance of RV1(endangered/extinct/vulnerable)"
   ]
  },
  {
   "cell_type": "code",
   "execution_count": 44,
   "id": "ed868d08-8923-4bfb-975f-ea9abb49bf4a",
   "metadata": {},
   "outputs": [
    {
     "data": {
      "text/plain": [
       "(array([39.,  0., 19., 10.,  3., 13., 22.,  9.,  3., 17., 18., 10.,  7.,\n",
       "         4., 10.,  7.,  3.,  3.,  1.,  2.]),\n",
       " array([9.43333333e+00, 1.00288364e+05, 2.00567294e+05, 3.00846225e+05,\n",
       "        4.01125156e+05, 5.01404086e+05, 6.01683017e+05, 7.01961947e+05,\n",
       "        8.02240878e+05, 9.02519808e+05, 1.00279874e+06, 1.10307767e+06,\n",
       "        1.20335660e+06, 1.30363553e+06, 1.40391446e+06, 1.50419339e+06,\n",
       "        1.60447232e+06, 1.70475125e+06, 1.80503018e+06, 1.90530911e+06,\n",
       "        2.00558804e+06]),\n",
       " <BarContainer object of 20 artists>)"
      ]
     },
     "execution_count": 44,
     "metadata": {},
     "output_type": "execute_result"
    },
    {
     "data": {
      "image/png": "[encoded data removed]",
      "text/plain": [
       "<Figure size 432x288 with 1 Axes>"
      ]
     },
     "metadata": {
      "needs_background": "light"
     },
     "output_type": "display_data"
    }
   ],
   "source": [
    "# plot of endangered/extinct/vulnerable\n",
    "# will take 200 samples of size 10\n",
    "endangered_v=collect_sample_variance(\"endangered/extinct/vulnerable\",10,200)\n",
    "plt.hist(endangered_v,bins=20)"
   ]
  },
  {
   "cell_type": "markdown",
   "id": "517b2a4e-bf13-4d35-9121-56417f05933f",
   "metadata": {},
   "source": [
    "### Sampling distribution of variance of RV2 (least concerned)"
   ]
  },
  {
   "cell_type": "code",
   "execution_count": 46,
   "id": "89829e47-e534-4784-9660-57be47a45974",
   "metadata": {},
   "outputs": [
    {
     "data": {
      "text/plain": [
       "(array([86., 21.,  3., 24.,  7.,  2., 12.,  0., 12.,  0.,  0.,  0.,  0.,\n",
       "         0.,  2., 21.,  3.,  1.,  3.,  3.]),\n",
       " array([1.49344444e+02, 1.13178138e+06, 2.26341341e+06, 3.39504544e+06,\n",
       "        4.52667748e+06, 5.65830951e+06, 6.78994154e+06, 7.92157358e+06,\n",
       "        9.05320561e+06, 1.01848376e+07, 1.13164697e+07, 1.24481017e+07,\n",
       "        1.35797337e+07, 1.47113658e+07, 1.58429978e+07, 1.69746298e+07,\n",
       "        1.81062619e+07, 1.92378939e+07, 2.03695259e+07, 2.15011580e+07,\n",
       "        2.26327900e+07]),\n",
       " <BarContainer object of 20 artists>)"
      ]
     },
     "execution_count": 46,
     "metadata": {},
     "output_type": "execute_result"
    },
    {
     "data": {
      "image/png": "[encoded data removed]",
      "text/plain": [
       "<Figure size 432x288 with 1 Axes>"
      ]
     },
     "metadata": {
      "needs_background": "light"
     },
     "output_type": "display_data"
    }
   ],
   "source": [
    "# plot of least concerned\n",
    "# will take 200 samples of size 10\n",
    "lc_v=collect_sample_variance(\"least concerned \",10,200)\n",
    "plt.hist(lc_v,bins=20)"
   ]
  },
  {
   "cell_type": "markdown",
   "id": "bc78a2d4-cfd2-46d9-bda3-1967fc2a49cd",
   "metadata": {},
   "source": [
    "# Point estimate and Interval estimates\n",
    "as we found the sampling distributions earlier we can use them to find our mean and variance of random variables"
   ]
  },
  {
   "cell_type": "markdown",
   "id": "d6984cb9-baae-443b-adca-8d0de72ac2f2",
   "metadata": {},
   "source": [
    "## Point Estimates of RV1(endangered/extinct/vulnerable):"
   ]
  },
  {
   "cell_type": "code",
   "execution_count": 17,
   "id": "bfd0a5da-8fc1-4d38-8b58-c32e6244bda1",
   "metadata": {},
   "outputs": [
    {
     "name": "stdout",
     "output_type": "stream",
     "text": [
      "Estimate of Mean endangered/extinct/vulnerable : 742.716\n",
      "\n",
      "True Mean of endangered/extinct/vulnerable : 334.7014925373134\n",
      "\n",
      "True Variance of endangered/extinct/vulnerable : 608172.6865\n",
      "\n",
      "True Variance of endangered/extinct/vulnerable : 640779.5156037996\n"
     ]
    }
   ],
   "source": [
    "print('Estimate of Mean endangered/extinct/vulnerable :', np.mean(endangered_m))\n",
    "print('True Mean of endangered/extinct/vulnerable :',np.mean(species['endangered/extinct/vulnerable']) )\n",
    "print('True Variance of endangered/extinct/vulnerable :',np.mean(endangered_v))\n",
    "print('True Variance of endangered/extinct/vulnerable :',(np.std(species['endangered/extinct/vulnerable'],ddof=1))**2)"
   ]
  },
  {
   "cell_type": "markdown",
   "id": "e4a3052b-91df-4ca4-a7a8-960aeeb60894",
   "metadata": {},
   "source": [
    "## Point Estimates of RV2(least concerned)"
   ]
  },
  {
   "cell_type": "code",
   "execution_count": 47,
   "id": "6926641c-4dfd-4ce4-8067-322155c14f5e",
   "metadata": {},
   "outputs": [
    {
     "name": "stdout",
     "output_type": "stream",
     "text": [
      "Estimate of Mean least concerned : 772.2670000000002\n",
      "True Mean of least concerned : 760.2835820895523\n",
      "True Variance of least concerned : 5079448.7046111105\n",
      "True Variance of least concerned : 4947452.478968783\n"
     ]
    }
   ],
   "source": [
    "print('Estimate of Mean least concerned :', np.mean(lc_m))\n",
    "print('True Mean of least concerned :',np.mean(species['least concerned ']) )\n",
    "print('True Variance of least concerned :',np.mean(lc_v))\n",
    "print('True Variance of least concerned :',(np.std(species['least concerned '],ddof=1))**2)"
   ]
  },
  {
   "cell_type": "markdown",
   "id": "339fcda3-2bdf-456d-a35a-a8b41f611834",
   "metadata": {},
   "source": [
    "### From above values we can see point estimate of variance and mean of both RVs are approx. equal (except mean of RV1)"
   ]
  },
  {
   "cell_type": "markdown",
   "id": "1c090f04-fd73-4eca-b5ea-7a2929b15a4f",
   "metadata": {},
   "source": [
    "## Regression\n"
   ]
  },
  {
   "cell_type": "markdown",
   "id": "518772a1-af40-4680-aedf-6459c3412534",
   "metadata": {},
   "source": [
    "Why regression?\n",
    "\n",
    "We need to find if there is any relationship between two random variables that we chosed.This can be done by finding relation throudh regression."
   ]
  },
  {
   "cell_type": "code",
   "execution_count": 48,
   "id": "8c2f31d2-9907-4020-b132-808923aa683a",
   "metadata": {},
   "outputs": [],
   "source": [
    "x=species['least concerned '].to_numpy()\n",
    "y=species['endangered/extinct/vulnerable'].to_numpy()\n",
    "b1,b0=np.polyfit(x,y,1)"
   ]
  },
  {
   "cell_type": "code",
   "execution_count": 49,
   "id": "1309bf45-a0ea-4491-b970-b55911c5ec7c",
   "metadata": {},
   "outputs": [
    {
     "data": {
      "text/plain": [
       "Text(0, 0.5, 'endangered/extinct/vulnerable')"
      ]
     },
     "execution_count": 49,
     "metadata": {},
     "output_type": "execute_result"
    },
    {
     "data": {
      "image/png": "[encoded data removed]",
      "text/plain": [
       "<Figure size 432x288 with 1 Axes>"
      ]
     },
     "metadata": {
      "needs_background": "light"
     },
     "output_type": "display_data"
    }
   ],
   "source": [
    "plt.plot(x,y,'ro',markersize=1,)\n",
    "plt.plot(x,b0+b1*x, lw=1)\n",
    "plt.xlabel('least concerned')\n",
    "plt.ylabel('endangered/extinct/vulnerable')"
   ]
  },
  {
   "cell_type": "markdown",
   "id": "f3dd371b-7b92-4234-864d-cb79a035d46b",
   "metadata": {},
   "source": [
    "## The above shown graph clears that both RVs are not nicely related(as specified earlier in joint distribution) as it does not fit on data accurately "
   ]
  },
  {
   "cell_type": "markdown",
   "id": "5457c12d",
   "metadata": {},
   "source": [
    "To better understand and, more importantly, to address the main causes of damage to biodiversity and nature’s contributions to people, we need to understand the history and global interconnection of complex demographic and economic indirect drivers of change, as well as the social values that underpin them.Extinction is hard to see. We may not realize how much of the natural world has been lost because the “baseline” shifts with every generation. Past generations would regard what we see as natural today as terribly damaged, and what we see as damaged today, our children will view as natural.\n",
    "\n",
    "<img src=\"https://static.independent.co.uk/s3fs-public/thumbnails/image/2020/07/31/15/5-species-comp.jpg?quality=75&width=982&height=726&auto=webp\" style=\"width:400px ;height:350px\">"
   ]
  },
  {
   "cell_type": "markdown",
   "id": "2ce82cd1",
   "metadata": {},
   "source": [
    "-------------------------------------------------------------------------------------------------THE END-------------------------------------------------------------------------------------------"
   ]
  }
 ],
 "metadata": {
  "kernelspec": {
   "display_name": "Python 3 (ipykernel)",
   "language": "python",
   "name": "python3"
  },
  "language_info": {
   "codemirror_mode": {
    "name": "ipython",
    "version": 3
   },
   "file_extension": ".py",
   "mimetype": "text/x-python",
   "name": "python",
   "nbconvert_exporter": "python",
   "pygments_lexer": "ipython3",
   "version": "3.9.12"
  }
 },
 "nbformat": 4,
 "nbformat_minor": 5
}
